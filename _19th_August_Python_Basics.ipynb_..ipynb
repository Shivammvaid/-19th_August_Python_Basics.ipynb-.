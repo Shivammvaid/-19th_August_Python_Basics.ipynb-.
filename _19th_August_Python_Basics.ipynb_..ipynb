{
 "cells": [
  {
   "cell_type": "code",
   "execution_count": null,
   "id": "491f23bb-e8c0-4c54-bbcb-8556db07b722",
   "metadata": {},
   "outputs": [],
   "source": [
    "1.Declare two variables, `x` and `y`, and assign them integer values. Swap the\n",
    "values of these variables without using any temporary variable."
   ]
  },
  {
   "cell_type": "code",
   "execution_count": 1,
   "id": "5f3f2cba-3af8-4946-bb7d-930a49def1e2",
   "metadata": {},
   "outputs": [
    {
     "name": "stdout",
     "output_type": "stream",
     "text": [
      "after swapping, x= 30\n",
      "after swapping,y= 10\n"
     ]
    }
   ],
   "source": [
    "x = 10\n",
    "y = 20\n",
    "#swap the values without suing any temporary variable\n",
    "x=x+y\n",
    "y=x-y\n",
    "\n",
    "#print the swapped values\n",
    "print(\"after swapping, x=\",x)\n",
    "print(\"after swapping,y=\",y)"
   ]
  },
  {
   "cell_type": "code",
   "execution_count": null,
   "id": "13c278fd-1621-4745-b38d-1366e11c62d6",
   "metadata": {},
   "outputs": [],
   "source": [
    "2Create a program that calculates the area of a rectangle. Take the length and\n",
    "width as inputs from the user and store them in variables. Calculate and\n",
    "display the area."
   ]
  },
  {
   "cell_type": "code",
   "execution_count": 3,
   "id": "c7c5c11a-bce9-4f3b-b87c-040e45a8c29b",
   "metadata": {},
   "outputs": [
    {
     "name": "stdin",
     "output_type": "stream",
     "text": [
      "enter the lenght of the rectangle: 34\n",
      "enter the width of the rectangle: 54\n"
     ]
    },
    {
     "name": "stdout",
     "output_type": "stream",
     "text": [
      "The area of the rectangle with length 34.0 and width 54.0 is 1836.0.\n"
     ]
    }
   ],
   "source": [
    "#lenght and width of the user\n",
    "length = float(input(\"enter the lenght of the rectangle:\"))\n",
    "width = float(input(\"enter the width of the rectangle:\"))\n",
    " \n",
    "#calculate area of rectangle\n",
    "area= length*width\n",
    "\n",
    "#print the calculated area\n",
    "print(f\"The area of the rectangle with length {length} and width {width} is {area}.\")\n"
   ]
  },
  {
   "cell_type": "code",
   "execution_count": null,
   "id": "268aae42-11bb-45f3-949d-4c097bdcf60e",
   "metadata": {},
   "outputs": [],
   "source": [
    "3.Write a Python program that converts temperatures from Celsius to\n",
    "Fahrenheit. Take the temperature in Celsius as input, store it in a variable,\n",
    "convert it to Fahrenheit, and display the result."
   ]
  },
  {
   "cell_type": "code",
   "execution_count": 4,
   "id": "647bbb54-97ff-48f2-b63c-ce9388348838",
   "metadata": {},
   "outputs": [
    {
     "name": "stdin",
     "output_type": "stream",
     "text": [
      "enter the temperature in Celsius: 23\n"
     ]
    },
    {
     "name": "stdout",
     "output_type": "stream",
     "text": [
      "23.0 degrees Celsius is equal to 73.40 degrees Fahrenheit.\n"
     ]
    }
   ],
   "source": [
    "#temperature in celsius\n",
    "celsius = float(input(\"enter the temperature in Celsius:\"))\n",
    "\n",
    "#convert celsius into fahrenheit\n",
    "fahrenheit = (celsius*9/5) + 32\n",
    "\n",
    "\n",
    "#display\n",
    "print(f\"{celsius} degrees Celsius is equal to {fahrenheit:.2f} degrees Fahrenheit.\")\n"
   ]
  },
  {
   "cell_type": "code",
   "execution_count": null,
   "id": "6c782c57-2a9e-4fb5-a73b-08c71be7feb2",
   "metadata": {},
   "outputs": [],
   "source": [
    "Write a Python program that takes a string as input and prints the length of\n",
    "the string."
   ]
  },
  {
   "cell_type": "code",
   "execution_count": 5,
   "id": "3af3a461-0f9f-4f80-92db-dd19df8124fa",
   "metadata": {},
   "outputs": [
    {
     "name": "stdin",
     "output_type": "stream",
     "text": [
      "this is my this is mypen\n"
     ]
    },
    {
     "data": {
      "text/plain": [
       "13"
      ]
     },
     "execution_count": 5,
     "metadata": {},
     "output_type": "execute_result"
    }
   ],
   "source": [
    "#string as input\n",
    "l2=input(\"this is my\")\n",
    "#calculating the length of string\n",
    "len(l2)"
   ]
  },
  {
   "cell_type": "code",
   "execution_count": null,
   "id": "1145eaed-d81b-4926-b5c1-f9428b0b28a2",
   "metadata": {},
   "outputs": [],
   "source": [
    "Create a program that takes a sentence from the user and counts the number\n",
    "of vowels (a, e, i, o, u) in the string."
   ]
  },
  {
   "cell_type": "code",
   "execution_count": 6,
   "id": "be76f4bf-1339-42f0-8d1b-1ced6f60f0dd",
   "metadata": {},
   "outputs": [
    {
     "name": "stdin",
     "output_type": "stream",
     "text": [
      "enter a string: this is my first assiment\n"
     ]
    },
    {
     "data": {
      "text/plain": [
       "['i', 'i', 'i', 'a', 'i', 'e']"
      ]
     },
     "execution_count": 6,
     "metadata": {},
     "output_type": "execute_result"
    }
   ],
   "source": [
    "vowels= ['a','e','i','o','u','A','E','I','O','U']\n",
    "string= input(\"enter a string:\")\n",
    "\n",
    "vowels_list = [string[i] for i in range(len(string)) if string[i] in vowels]\n",
    "vowels_list"
   ]
  },
  {
   "cell_type": "code",
   "execution_count": null,
   "id": "63094591-2da5-4549-a2d8-101cad08c7ac",
   "metadata": {},
   "outputs": [],
   "source": [
    "Given a string, reverse the order of characters using string slicing and print\n",
    "the reversed string."
   ]
  },
  {
   "cell_type": "code",
   "execution_count": 7,
   "id": "982d8db5-6ec9-4576-a61f-0e3c4ba7df56",
   "metadata": {},
   "outputs": [
    {
     "name": "stdout",
     "output_type": "stream",
     "text": [
      "dlrow olleh\n"
     ]
    }
   ],
   "source": [
    "a = \"hello world\"\n",
    "\n",
    "print(a[::-1])"
   ]
  },
  {
   "cell_type": "code",
   "execution_count": null,
   "id": "b8148e9e-ed98-4477-91ac-939b58a63529",
   "metadata": {},
   "outputs": [],
   "source": [
    "4. Write a program that takes a string as input and checks if it is a palindrome\n",
    "(reads the same forwards and backwards)."
   ]
  },
  {
   "cell_type": "code",
   "execution_count": 8,
   "id": "b85bcce2-7612-4cc0-9963-9a9f8eb31ed5",
   "metadata": {},
   "outputs": [
    {
     "name": "stdin",
     "output_type": "stream",
     "text": [
      "Enter a string:  this is my laptop\n"
     ]
    },
    {
     "name": "stdout",
     "output_type": "stream",
     "text": [
      "It is not a palindrome.\n"
     ]
    }
   ],
   "source": [
    "def is_palindrome(input_string):\n",
    "    cleaned_string = input_string.lower()\n",
    "    cleaned_string = cleaned_string.replace(\" \", \"\")\n",
    "    return cleaned_string == cleaned_string[::-1]\n",
    "\n",
    "user_input = input(\"Enter a string: \")\n",
    "if is_palindrome(user_input):\n",
    "    print(\"It is a palindrome!\")\n",
    "else:\n",
    "    print(\"It is not a palindrome.\")"
   ]
  },
  {
   "cell_type": "code",
   "execution_count": 9,
   "id": "c9c9357d-935b-484f-95cf-7e62c39449d5",
   "metadata": {},
   "outputs": [
    {
     "ename": "SyntaxError",
     "evalue": "invalid syntax (3078389726.py, line 1)",
     "output_type": "error",
     "traceback": [
      "\u001b[0;36m  Cell \u001b[0;32mIn[9], line 1\u001b[0;36m\u001b[0m\n\u001b[0;31m    5. Create a program that takes a string as input and removes all the spaces from\u001b[0m\n\u001b[0m       ^\u001b[0m\n\u001b[0;31mSyntaxError\u001b[0m\u001b[0;31m:\u001b[0m invalid syntax\n"
     ]
    }
   ],
   "source": [
    "5. Create a program that takes a string as input and removes all the spaces from\n",
    "it. Print the modified string without spaces.\n"
   ]
  },
  {
   "cell_type": "code",
   "execution_count": 10,
   "id": "469edc59-7570-4c91-bd20-cb8a5bfe42db",
   "metadata": {},
   "outputs": [
    {
     "name": "stdin",
     "output_type": "stream",
     "text": [
      "Enter a string:  this is my first assiment\n"
     ]
    },
    {
     "name": "stdout",
     "output_type": "stream",
     "text": [
      "Modified string without spaces: thisismyfirstassiment\n"
     ]
    }
   ],
   "source": [
    "def remove_spaces(input_string):\n",
    "    modified_string = input_string.replace(\" \", \"\")\n",
    "    return modified_string\n",
    "user_input = input(\"Enter a string: \")\n",
    "\n",
    "result = remove_spaces(user_input)\n",
    "\n",
    "print(\"Modified string without spaces:\", result)"
   ]
  },
  {
   "cell_type": "code",
   "execution_count": null,
   "id": "a3ed5482-838c-4d5a-8826-180da02faca1",
   "metadata": {},
   "outputs": [],
   "source": []
  }
 ],
 "metadata": {
  "kernelspec": {
   "display_name": "Python 3 (ipykernel)",
   "language": "python",
   "name": "python3"
  },
  "language_info": {
   "codemirror_mode": {
    "name": "ipython",
    "version": 3
   },
   "file_extension": ".py",
   "mimetype": "text/x-python",
   "name": "python",
   "nbconvert_exporter": "python",
   "pygments_lexer": "ipython3",
   "version": "3.10.8"
  }
 },
 "nbformat": 4,
 "nbformat_minor": 5
}
